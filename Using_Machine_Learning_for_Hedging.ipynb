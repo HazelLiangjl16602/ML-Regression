{
 "cells": [
  {
   "cell_type": "markdown",
   "metadata": {},
   "source": [
    "Before you turn this problem in, make sure everything runs as expected. First, **restart the kernel** (in the menubar, select Kernel$\\rightarrow$Restart) and then **run all cells** (in the menubar, select Cell$\\rightarrow$Run All).\n",
    "\n",
    "Make sure you fill in any place that says `YOUR CODE HERE` or \"YOUR ANSWER HERE\", as well as your name and collaborators below:"
   ]
  },
  {
   "cell_type": "code",
   "execution_count": 7,
   "metadata": {},
   "outputs": [],
   "source": [
    "NAME = \"Jiaqi Liang\"\n",
    "COLLABORATORS = \"\""
   ]
  },
  {
   "cell_type": "markdown",
   "metadata": {},
   "source": [
    "---"
   ]
  },
  {
   "cell_type": "markdown",
   "metadata": {},
   "source": [
    "$$\n",
    "\\newcommand{\\x}{\\mathbf{x}}\n",
    "\\newcommand{\\y}{\\mathbf{y}}\n",
    "\\newcommand{\\price}{{p}}\n",
    "\\newcommand{\\ret}{{r}}\n",
    "\\newcommand{\\tp}{{(t)}}\n",
    "\\newcommand{\\aapl}{{\\text{AAPL}}}\n",
    "\\newcommand{\\ba}{{\\text{BA}}}\n",
    "\\newcommand{\\spy}{{\\text{SPY}}}\n",
    "$$"
   ]
  },
  {
   "cell_type": "markdown",
   "metadata": {},
   "source": [
    "# Assignment: Using Machine Learning for Hedging\n",
    "\n",
    "Welcome to the first assignment !\n",
    "\n",
    "# Problem description\n",
    "\n",
    "We will solve a Regression task that is very common in Finance\n",
    "- Given the return of \"the market\", predict the return of a particular stock\n",
    "\n",
    "That is\n",
    "- Given the return of a proxy for \"the market\" at time $t$, predict the return of, e.g., Apple at time $t$.\n",
    "\n",
    "As we will explain,\n",
    "being able to predict the relationship between two financial instruments opens up possibilities\n",
    "- Use one instrument to \"hedge\" or reduce the risk of holding the other\n",
    "- Create strategies whose returns are independent of \"the market\"\n",
    "    - Hopefully make a profit regardless of whether the market goes up or down"
   ]
  },
  {
   "cell_type": "markdown",
   "metadata": {},
   "source": [
    "## Goal\n",
    "\n",
    "You will create models of increasing complexity in order to explain the return of Apple (ticker $\\aapl$)\n",
    "- The first model will have a single feature: return of the market proxy, ticker $\\spy$\n",
    "- Subsequent models will add the return of other tickers as additional features"
   ]
  },
  {
   "cell_type": "markdown",
   "metadata": {},
   "source": [
    "## Learning Objectives\n",
    "- Learn how to solve a Regression task\n",
    "- Become facile in the `sklearn` toolkit for Machine Learning"
   ]
  },
  {
   "cell_type": "markdown",
   "metadata": {},
   "source": [
    "## How to report your answers\n",
    "We will mix explanation of the topic with tasks that you must complete. \n",
    "\n",
    "Look for \n",
    "the string \"**Question**\" to find a task that you must perform.\n",
    "\n",
    "Most of the tasks will require you to create some code at the location indicated by\n",
    "\n",
    ">`# YOUR CODE HERE\n",
    "raise NotImplementedError()`\n",
    "\n",
    "- Replace `raise NotImplementedError()` with your own code"
   ]
  },
  {
   "cell_type": "markdown",
   "metadata": {},
   "source": [
    "# Standard imports"
   ]
  },
  {
   "cell_type": "code",
   "execution_count": 15,
   "metadata": {
    "deletable": false,
    "editable": false,
    "nbgrader": {
     "cell_type": "code",
     "checksum": "7a3fa8b4455f72468d048d394686587d",
     "grade": false,
     "grade_id": "cell-99b5f8a456b0246a",
     "locked": true,
     "schema_version": 3,
     "solution": false,
     "task": false
    }
   },
   "outputs": [],
   "source": [
    "# Standard imports\n",
    "import numpy as np\n",
    "import pandas as pd\n",
    "import matplotlib.pyplot as plt\n",
    "\n",
    "import sklearn\n",
    "\n",
    "import os\n",
    "import math\n",
    "\n",
    "%matplotlib inline"
   ]
  },
  {
   "cell_type": "code",
   "execution_count": 16,
   "metadata": {
    "deletable": false,
    "editable": false,
    "nbgrader": {
     "cell_type": "code",
     "checksum": "7b882bb499968178ee01aeae81e5685a",
     "grade": false,
     "grade_id": "cell-4423599e20464120",
     "locked": true,
     "schema_version": 3,
     "solution": false,
     "task": false
    }
   },
   "outputs": [],
   "source": [
    "from IPython.core.interactiveshell import InteractiveShell\n",
    "InteractiveShell.ast_node_interactivity = \"all\"\n",
    "\n",
    "# Reload all modules imported with %aimport\n",
    "%load_ext autoreload\n",
    "%autoreload 1\n",
    "\n",
    "# Import nn_helper module\n",
    "import helper\n",
    "%aimport helper\n",
    "\n",
    "helper = helper.HELPER()"
   ]
  },
  {
   "cell_type": "markdown",
   "metadata": {},
   "source": [
    "# Get The data\n",
    "\n",
    "\n",
    "The first step in our Recipe is Get the Data.\n",
    "\n",
    "The data are the daily prices of a number of individual equities and equity indices.\n",
    "\n",
    "The prices are arranged in a series in ascending date order (a timeseries).\n",
    "- There are many `.csv` files for equity or index in the directory `DATA_DIR`"
   ]
  },
  {
   "cell_type": "markdown",
   "metadata": {},
   "source": [
    "## API for students\n",
    "\n",
    "We will define some utility routines to help you.\n",
    "\n",
    "In this way, you can focus on the learning objectives rather than data manipulation.\n",
    "\n",
    "This is not representative of the \"real world\"; you will need to complete data manipulation tasks in later assignments."
   ]
  },
  {
   "cell_type": "markdown",
   "metadata": {},
   "source": [
    "We provide a class `HELPER`\n",
    "- Instantiated as \n",
    ">    `helper = helper.HELPER()`\n",
    "\n",
    "With methods\n",
    "- `getData`:\n",
    "    - Get examples for a list of equity tickers and an index ticker.\n",
    "    - Called as\n",
    "    > `data = helper.getData( tickers, index_ticker, attrs)`\n",
    "        - `tickers` is a list of tickers\n",
    "        - `index` is the ticker of the index  \n",
    "        - `attrs` is a list of data attributes\n",
    "   "
   ]
  },
  {
   "cell_type": "markdown",
   "metadata": {},
   "source": [
    "**Question:**\n",
    "- Create code to\n",
    "    - Get the adjusted close price of $\\aapl$ and $\\spy$ \n",
    "    - Assign the result to variable `data`\n",
    "\n",
    "**Hint:**\n",
    "- Use the `getData` method from the helper class\n",
    "    - The list of tickers contains just the single ticker $\\aapl$\n",
    "    - The index ticker is $\\spy$\n",
    "    - The list of attributes is the single attribute `Adj Close`\n"
   ]
  },
  {
   "cell_type": "code",
   "execution_count": 21,
   "metadata": {
    "deletable": false,
    "nbgrader": {
     "cell_type": "code",
     "checksum": "99daafa3cfc32b40857d84ccee25e107",
     "grade": false,
     "grade_id": "cell-8ff9c8c031ab3ee3",
     "locked": false,
     "schema_version": 3,
     "solution": true,
     "task": false
    }
   },
   "outputs": [],
   "source": [
    "ticker = \"AAPL\"\n",
    "index_ticker = \"SPY\"\n",
    "dateAttr = \"Dt\"\n",
    "priceAttr = \"Adj Close\"\n",
    "\n",
    "# YOUR CODE HERE\n",
    "# Define attrs, since my first try says I input more terms than it needed \n",
    "attrs = [priceAttr]\n",
    "tickers = [ticker]  \n",
    "\n",
    "# proceed with data extraction\n",
    "data = helper.getData(tickers, index_ticker, attrs)"
   ]
  },
  {
   "cell_type": "markdown",
   "metadata": {},
   "source": [
    "# Have a look at the data\n",
    "\n",
    "We will not go through all steps in the Recipe, nor in depth.\n",
    "\n",
    "But here's a peek at the data you retrieved"
   ]
  },
  {
   "cell_type": "code",
   "execution_count": 23,
   "metadata": {},
   "outputs": [
    {
     "data": {
      "text/html": [
       "<div>\n",
       "<style scoped>\n",
       "    .dataframe tbody tr th:only-of-type {\n",
       "        vertical-align: middle;\n",
       "    }\n",
       "\n",
       "    .dataframe tbody tr th {\n",
       "        vertical-align: top;\n",
       "    }\n",
       "\n",
       "    .dataframe thead th {\n",
       "        text-align: right;\n",
       "    }\n",
       "</style>\n",
       "<table border=\"1\" class=\"dataframe\">\n",
       "  <thead>\n",
       "    <tr style=\"text-align: right;\">\n",
       "      <th></th>\n",
       "      <th>AAPL_Adj_Close</th>\n",
       "      <th>SPY_Adj_Close</th>\n",
       "    </tr>\n",
       "    <tr>\n",
       "      <th>Dt</th>\n",
       "      <th></th>\n",
       "      <th></th>\n",
       "    </tr>\n",
       "  </thead>\n",
       "  <tbody>\n",
       "    <tr>\n",
       "      <th>2017-01-03</th>\n",
       "      <td>110.9539</td>\n",
       "      <td>213.8428</td>\n",
       "    </tr>\n",
       "    <tr>\n",
       "      <th>2017-01-04</th>\n",
       "      <td>110.8297</td>\n",
       "      <td>215.1149</td>\n",
       "    </tr>\n",
       "    <tr>\n",
       "      <th>2017-01-05</th>\n",
       "      <td>111.3933</td>\n",
       "      <td>214.9440</td>\n",
       "    </tr>\n",
       "    <tr>\n",
       "      <th>2017-01-06</th>\n",
       "      <td>112.6351</td>\n",
       "      <td>215.7131</td>\n",
       "    </tr>\n",
       "    <tr>\n",
       "      <th>2017-01-09</th>\n",
       "      <td>113.6668</td>\n",
       "      <td>215.0010</td>\n",
       "    </tr>\n",
       "  </tbody>\n",
       "</table>\n",
       "</div>"
      ],
      "text/plain": [
       "            AAPL_Adj_Close  SPY_Adj_Close\n",
       "Dt                                       \n",
       "2017-01-03        110.9539       213.8428\n",
       "2017-01-04        110.8297       215.1149\n",
       "2017-01-05        111.3933       214.9440\n",
       "2017-01-06        112.6351       215.7131\n",
       "2017-01-09        113.6668       215.0010"
      ]
     },
     "execution_count": 23,
     "metadata": {},
     "output_type": "execute_result"
    }
   ],
   "source": [
    "data.head()"
   ]
  },
  {
   "cell_type": "code",
   "execution_count": 24,
   "metadata": {},
   "outputs": [
    {
     "name": "stdout",
     "output_type": "stream",
     "text": [
      "Start time:  2017-01-03\n",
      "End time:  2019-10-31\n"
     ]
    }
   ],
   "source": [
    "# Print the Start time and End time\n",
    "print(\"Start time: \", data.index.min())\n",
    "print(\"End time: \", data.index.max())"
   ]
  },
  {
   "cell_type": "markdown",
   "metadata": {},
   "source": [
    "## Create DataFrame of price levels for the training examples\n",
    "\n",
    "The training examples will be stored in a DataFrame.\n",
    "\n",
    "- The DataFrame should have two columns: the price level for the ticker and for the index\n",
    "- The minimum date in the DataFrame should be **the trading day before** `start_dt`\n",
    "    - That is: the latest date for which there is data and which is less than `start_dt`\n",
    "    - For example, if `start_dt` is a Monday, the \"day before\" would be Friday, not Sunday.\n",
    "        - Similarly for the case where the day before `start_dt` is a holiday\n",
    "- The maximum date in the DataFrame should be `end_dt`\n",
    "\n",
    "The reason we are adding one day prior to `start_dt`\n",
    "- We want to have returns (percent price changes) from `start_dt` onwards\n",
    "- In order to compute a return for `start_dt`, we need the level from the prior day\n",
    "\n",
    "**Question:**\n",
    "\n",
    "- Complete the function `getRange()`\n",
    "    - To return the subset of rows of our examples\n",
    "    - Beginning on the **trading day before** date `start_dt`\n",
    "    - Ending on date `end_dt`\n"
   ]
  },
  {
   "cell_type": "code",
   "execution_count": 26,
   "metadata": {
    "deletable": false,
    "nbgrader": {
     "cell_type": "code",
     "checksum": "9e524ba9acd205d806ff10bf9b73694b",
     "grade": false,
     "grade_id": "cell-c0e65a9eb6acc70e",
     "locked": false,
     "schema_version": 3,
     "solution": true,
     "task": false
    }
   },
   "outputs": [
    {
     "name": "stdout",
     "output_type": "stream",
     "text": [
      "            AAPL_Adj_Close  SPY_Adj_Close\n",
      "Dt                                       \n",
      "2017-12-29        164.2589       258.2823\n",
      "2018-01-02        167.1999       260.1310\n",
      "2018-01-03        167.1708       261.7763\n",
      "2018-01-04        167.9473       262.8796\n",
      "2018-01-05        169.8594       264.6314\n"
     ]
    }
   ],
   "source": [
    "start_dt = \"2018-01-02\"\n",
    "end_dt = \"2018-09-28\"\n",
    "train_data_price = None\n",
    "\n",
    "# Set variable train_data_price to be a DataFrame with two columns\n",
    "## AAPL_Adj_Close, SPY_Adj_Close\n",
    "## with dates as the index\n",
    "## Having minimum date equal to THE DAY BEFORE start_dt\n",
    "## Having maximum date equal to end_dt\n",
    "\n",
    "def getRange(df, start_dt, end_dt):\n",
    "    '''\n",
    "    Return the the subset of rows of DataFrame df\n",
    "    restricted to dates between start_dt and end_dt\n",
    "    \n",
    "    Parameters\n",
    "    ----------\n",
    "    df: DataFrame\n",
    "    - The data from which we will take a subset\n",
    "    \n",
    "    start_dt: String\n",
    "    - Start date\n",
    "    \n",
    "    end_dt: String\n",
    "    - End date\n",
    "    '''\n",
    "    # Convert start_dt and end_dt to pandas datetime objects, my initial datetime objects are invalid\n",
    "    start_dt = pd.to_datetime(start_dt)\n",
    "    end_dt = pd.to_datetime(end_dt)\n",
    "    \n",
    "    # Ensure the DataFrame index is in datetime format\n",
    "    df.index = pd.to_datetime(df.index)\n",
    "    \n",
    "    # Find the trading day before start_dt \n",
    "    available_dates = df.index[df.index < start_dt]\n",
    "    trading_day_before = available_dates.max()  # Find the latest date before start_dt\n",
    "\n",
    "    # Filter the DataFrame to include data from trading_day_before to end_dt\n",
    "    df_filtered = df.loc[trading_day_before:end_dt]\n",
    "    \n",
    "    return df_filtered\n",
    "train_data_price = getRange(data, start_dt, end_dt)\n",
    "print(train_data_price.head())"
   ]
  },
  {
   "cell_type": "code",
   "execution_count": null,
   "metadata": {
    "deletable": false,
    "editable": false,
    "nbgrader": {
     "cell_type": "code",
     "checksum": "482c8ef100d585354a116197b61461b2",
     "grade": true,
     "grade_id": "cell-e1a885451770427c",
     "locked": true,
     "points": 0,
     "schema_version": 3,
     "solution": false,
     "task": false
    }
   },
   "outputs": [],
   "source": []
  },
  {
   "cell_type": "markdown",
   "metadata": {},
   "source": [
    "As you can see, each row has two attributes for one  date\n",
    "- Price (adjusted close) of ticker $\\aapl$\n",
    "- Price (adjusted close) of the market proxy $\\spy$"
   ]
  },
  {
   "cell_type": "markdown",
   "metadata": {},
   "source": [
    "# Create test set\n",
    "\n",
    "We just created a set of training examples as a subset of the rows of `data`.\n",
    "\n",
    "We will do the same to create a set of test examples.\n",
    "\n",
    "**Question:**\n",
    "\n",
    "Set variable `test_data_price`\n",
    "- To  the subset of rows of our examples\n",
    "- Beginning on the **trading day before** date `test_start_dt`\n",
    "- Ending on date `test_end_dt`\n",
    "\n",
    "**Hint**\n",
    "- Use `getRange` with different arguments for the dates"
   ]
  },
  {
   "cell_type": "code",
   "execution_count": 29,
   "metadata": {
    "deletable": false,
    "nbgrader": {
     "cell_type": "code",
     "checksum": "4205b5f9982a2ab078f780c7179a4bfb",
     "grade": false,
     "grade_id": "cell-27491348296befb7",
     "locked": false,
     "schema_version": 3,
     "solution": true,
     "task": false
    }
   },
   "outputs": [
    {
     "name": "stdout",
     "output_type": "stream",
     "text": [
      "            AAPL_Adj_Close  SPY_Adj_Close\n",
      "Dt                                       \n",
      "2018-09-28        221.6252       285.0555\n",
      "2018-10-01        223.1175       286.0458\n",
      "2018-10-02        225.1006       285.8791\n",
      "2018-10-03        227.8398       286.0359\n",
      "2018-10-04        223.8342       283.8004\n"
     ]
    }
   ],
   "source": [
    "test_start_dt = '2018-10-01'\n",
    "test_end_dt = '2018-12-31'\n",
    "\n",
    "# YOUR CODE HERE\n",
    "# Use the getRange function to extract the test data\n",
    "test_data_price = getRange(data, test_start_dt, test_end_dt)\n",
    "\n",
    "# View the first few rows of the test data\n",
    "print(test_data_price.head())\n"
   ]
  },
  {
   "cell_type": "code",
   "execution_count": null,
   "metadata": {
    "deletable": false,
    "editable": false,
    "nbgrader": {
     "cell_type": "code",
     "checksum": "77ea6bca32280e1a59a3c0d2703c84d1",
     "grade": true,
     "grade_id": "cell-1a2300597ee154da",
     "locked": true,
     "points": 0,
     "schema_version": 3,
     "solution": false,
     "task": false
    }
   },
   "outputs": [],
   "source": []
  },
  {
   "cell_type": "markdown",
   "metadata": {},
   "source": [
    "# Prepare the data\n",
    "\n",
    "In Finance, it is very typical to work with *relative changes* (e.g., percent price change)\n",
    "rather than *absolute changes* (price change) or *levels* (prices).\n",
    "\n",
    "Without going into too much detail\n",
    "- Relative changes are more consistent over time than either absolute changes or levels\n",
    "- The consistency can facilitate the use of data over a longer time period\n",
    "\n",
    "For example, let's suppose that prices are given in units of USD (dollar)\n",
    "- A price change of 1 USD is more likely for a stock with price level 100 than price level 10\n",
    "    - A relative change of $1/100 = 1 %$ is more likely than a change of $1/10 = 10%$\n",
    "    - So relative changes are less dependent on price level than either price changes or price levels\n",
    "    \n",
    "    \n",
    "To compute the *return* (percent change in prices)\n",
    " for ticker $\\aapl$ (Apple) on date $t$\n",
    "\n",
    "$$\n",
    "\\begin{array}[lll]\\\\\n",
    "\\ret_\\aapl^\\tp = \\frac{\\price _\\aapl^\\tp}{\\price _\\aapl^{(t-1)}} -1 \\\\\n",
    "\\text{where} \\\\\n",
    "\\price_\\aapl^\\tp \\text{ denotes the price of ticker } \\aapl \\text{ on date } t \\\\\n",
    "\\ret_\\aapl^\\tp \\text{ denotes the return of ticker } \\aapl \\text{ on date } t\n",
    "\\end{array}\n",
    "$$\n"
   ]
  },
  {
   "cell_type": "markdown",
   "metadata": {},
   "source": [
    "# Transformations: transform the training data\n",
    "\n",
    "Our first task is to transform the data from price levels (Adj Close)\n",
    "to Percent Price Changes.\n",
    "\n",
    "Moreover, the date range for the training data is specified to be in the range\n",
    "from `start_dt` (start date) to `end_dt`, inclusive on both sides.\n",
    "\n",
    "**Note**\n",
    "\n",
    "We will need to apply **identical** transformations to both the training and test data examples.\n",
    "\n",
    "In the cells that immediately follow, we will do this only for the **training data**\n",
    "\n",
    "You will need to repeat these steps for the test data in a subsequent step.\n",
    "\n",
    "You are well-advised to create subroutines or functions to accomplish these tasks !\n",
    "- You will apply them first to transform training data\n",
    "- You will apply them a second time to transform the test data\n",
    "\n",
    "We will achieve this is several steps"
   ]
  },
  {
   "cell_type": "markdown",
   "metadata": {},
   "source": [
    "## Create DataFrame of returns for training examples\n",
    "\n",
    "Create a new DataFrame with percent price changes of the columns, rather than the levels\n",
    "\n",
    "**Question:**\n",
    "- Complete function `getReturns()` to set variable `train_data_ret` to be a DataFrame with the same columns\n",
    "    - But where the prices have been replaced by day over day percent changes\n",
    "    - The column names of `train_data_ret` should be the same as the original columns names\n",
    "    - We give you code to rename the columns to reflect the changed meaning of the data in the next step\n",
    "\n",
    "**Hint:**\n",
    "- look up the Pandas `pct_change()` method    "
   ]
  },
  {
   "cell_type": "code",
   "execution_count": 33,
   "metadata": {
    "deletable": false,
    "nbgrader": {
     "cell_type": "code",
     "checksum": "e75d8d03f2315603e6d8f377fe32740c",
     "grade": false,
     "grade_id": "cell-1686f75593a7bace",
     "locked": false,
     "schema_version": 3,
     "solution": true,
     "task": false
    }
   },
   "outputs": [
    {
     "data": {
      "text/html": [
       "<div>\n",
       "<style scoped>\n",
       "    .dataframe tbody tr th:only-of-type {\n",
       "        vertical-align: middle;\n",
       "    }\n",
       "\n",
       "    .dataframe tbody tr th {\n",
       "        vertical-align: top;\n",
       "    }\n",
       "\n",
       "    .dataframe thead th {\n",
       "        text-align: right;\n",
       "    }\n",
       "</style>\n",
       "<table border=\"1\" class=\"dataframe\">\n",
       "  <thead>\n",
       "    <tr style=\"text-align: right;\">\n",
       "      <th></th>\n",
       "      <th>AAPL_Adj_Close</th>\n",
       "      <th>SPY_Adj_Close</th>\n",
       "    </tr>\n",
       "    <tr>\n",
       "      <th>Dt</th>\n",
       "      <th></th>\n",
       "      <th></th>\n",
       "    </tr>\n",
       "  </thead>\n",
       "  <tbody>\n",
       "    <tr>\n",
       "      <th>2017-12-29</th>\n",
       "      <td>NaN</td>\n",
       "      <td>NaN</td>\n",
       "    </tr>\n",
       "    <tr>\n",
       "      <th>2018-01-02</th>\n",
       "      <td>0.017905</td>\n",
       "      <td>0.007158</td>\n",
       "    </tr>\n",
       "    <tr>\n",
       "      <th>2018-01-03</th>\n",
       "      <td>-0.000174</td>\n",
       "      <td>0.006325</td>\n",
       "    </tr>\n",
       "    <tr>\n",
       "      <th>2018-01-04</th>\n",
       "      <td>0.004645</td>\n",
       "      <td>0.004215</td>\n",
       "    </tr>\n",
       "    <tr>\n",
       "      <th>2018-01-05</th>\n",
       "      <td>0.011385</td>\n",
       "      <td>0.006664</td>\n",
       "    </tr>\n",
       "  </tbody>\n",
       "</table>\n",
       "</div>"
      ],
      "text/plain": [
       "            AAPL_Adj_Close  SPY_Adj_Close\n",
       "Dt                                       \n",
       "2017-12-29             NaN            NaN\n",
       "2018-01-02        0.017905       0.007158\n",
       "2018-01-03       -0.000174       0.006325\n",
       "2018-01-04        0.004645       0.004215\n",
       "2018-01-05        0.011385       0.006664"
      ]
     },
     "execution_count": 33,
     "metadata": {},
     "output_type": "execute_result"
    }
   ],
   "source": [
    "train_data_ret = None\n",
    "\n",
    "def getReturns(df):\n",
    "    '''\n",
    "    Return the day over day percent changes of adjusted price\n",
    "    \n",
    "    Parameters\n",
    "    ----------\n",
    "    df: DataFrame\n",
    "    '''\n",
    "    \n",
    "    # YOUR CODE HERE\n",
    "    # Use pct_change() to compute the day-over-day percent changes (usually prefer percentage changes for financial model)\n",
    "    df_pct_change = df.pct_change()  # This calculates percent change for each column\n",
    "    \n",
    "    return df_pct_change\n",
    "\n",
    "\n",
    "train_data_ret = getReturns(train_data_price)\n",
    "train_data_ret.head()\n"
   ]
  },
  {
   "cell_type": "code",
   "execution_count": null,
   "metadata": {
    "deletable": false,
    "editable": false,
    "nbgrader": {
     "cell_type": "code",
     "checksum": "2a40b50b12b072ffc1cbde0a21d53c26",
     "grade": true,
     "grade_id": "check-get-returns",
     "locked": true,
     "points": 10,
     "schema_version": 3,
     "solution": false
    }
   },
   "outputs": [],
   "source": []
  },
  {
   "cell_type": "markdown",
   "metadata": {},
   "source": [
    "Since the columns of `train_data_ret` are now returns, we will rename then for you.\n",
    "\n",
    "Also, we will drop the earliest date\n",
    "- There is now return for this date\n",
    "- We included this row only so we could compute the return for the following trading date"
   ]
  },
  {
   "cell_type": "code",
   "execution_count": 35,
   "metadata": {
    "deletable": false,
    "editable": false,
    "nbgrader": {
     "cell_type": "code",
     "checksum": "e97e42e4b3fb4880a012c3d25d1fc539",
     "grade": false,
     "grade_id": "cell-fb9edc0f593c043d",
     "locked": true,
     "schema_version": 3,
     "solution": false,
     "task": false
    }
   },
   "outputs": [
    {
     "data": {
      "text/html": [
       "<div>\n",
       "<style scoped>\n",
       "    .dataframe tbody tr th:only-of-type {\n",
       "        vertical-align: middle;\n",
       "    }\n",
       "\n",
       "    .dataframe tbody tr th {\n",
       "        vertical-align: top;\n",
       "    }\n",
       "\n",
       "    .dataframe thead th {\n",
       "        text-align: right;\n",
       "    }\n",
       "</style>\n",
       "<table border=\"1\" class=\"dataframe\">\n",
       "  <thead>\n",
       "    <tr style=\"text-align: right;\">\n",
       "      <th></th>\n",
       "      <th>AAPL_Ret</th>\n",
       "      <th>SPY_Ret</th>\n",
       "    </tr>\n",
       "    <tr>\n",
       "      <th>Dt</th>\n",
       "      <th></th>\n",
       "      <th></th>\n",
       "    </tr>\n",
       "  </thead>\n",
       "  <tbody>\n",
       "    <tr>\n",
       "      <th>2018-01-02</th>\n",
       "      <td>0.017905</td>\n",
       "      <td>0.007158</td>\n",
       "    </tr>\n",
       "    <tr>\n",
       "      <th>2018-01-03</th>\n",
       "      <td>-0.000174</td>\n",
       "      <td>0.006325</td>\n",
       "    </tr>\n",
       "    <tr>\n",
       "      <th>2018-01-04</th>\n",
       "      <td>0.004645</td>\n",
       "      <td>0.004215</td>\n",
       "    </tr>\n",
       "    <tr>\n",
       "      <th>2018-01-05</th>\n",
       "      <td>0.011385</td>\n",
       "      <td>0.006664</td>\n",
       "    </tr>\n",
       "    <tr>\n",
       "      <th>2018-01-08</th>\n",
       "      <td>-0.003714</td>\n",
       "      <td>0.001829</td>\n",
       "    </tr>\n",
       "  </tbody>\n",
       "</table>\n",
       "</div>"
      ],
      "text/plain": [
       "            AAPL_Ret   SPY_Ret\n",
       "Dt                            \n",
       "2018-01-02  0.017905  0.007158\n",
       "2018-01-03 -0.000174  0.006325\n",
       "2018-01-04  0.004645  0.004215\n",
       "2018-01-05  0.011385  0.006664\n",
       "2018-01-08 -0.003714  0.001829"
      ]
     },
     "execution_count": 35,
     "metadata": {},
     "output_type": "execute_result"
    }
   ],
   "source": [
    "## Rename the columns to indicate that they have been transformed from price (Adj_close) to Return\n",
    "train_data_ret = helper.renamePriceToRet( train_data_ret )\n",
    "\n",
    "## Drop the first date (the day before `start_dt`) since it has an undefined return\n",
    "train_data_ret = train_data_ret[ start_dt:]\n",
    "train_data_ret.head()"
   ]
  },
  {
   "cell_type": "markdown",
   "metadata": {},
   "source": [
    "## Remove the target \n",
    "\n",
    "The only feature is the return of the market proxy $\\spy$.\n",
    "\n",
    "Predicting the target given the target as a feature would be cheating !\n",
    "\n",
    "So we will create `X_train, y_train` from `train_data_ret`\n",
    "- `X_train` has only features for the example\n",
    "- `y_train` is the target for the example"
   ]
  },
  {
   "cell_type": "code",
   "execution_count": 37,
   "metadata": {
    "deletable": false,
    "editable": false,
    "nbgrader": {
     "cell_type": "code",
     "checksum": "bf3d14aa96346dfa095f97ad3e08069f",
     "grade": false,
     "grade_id": "cell-f110d292623248a7",
     "locked": true,
     "schema_version": 3,
     "solution": false,
     "task": false
    }
   },
   "outputs": [],
   "source": [
    "tickerAttr = ticker + \"_Ret\"\n",
    "\n",
    "X_train, y_train =  train_data_ret.drop(columns=[tickerAttr]), train_data_ret[[ tickerAttr ]]"
   ]
  },
  {
   "cell_type": "markdown",
   "metadata": {},
   "source": [
    "# Transformations: transform the test data\n",
    "\n",
    "We have just performed some transformations of the training data.\n",
    "\n",
    "**Remember**:\n",
    "\n",
    "You need to perform *identical* transformations to the test data.\n",
    "\n",
    "The test data will be returns from `test_start_dt` to `test_end_dt` inclusive.\n",
    "\n",
    "We will apply identical transformations as we did to the training data, but with a different date range.\n"
   ]
  },
  {
   "cell_type": "markdown",
   "metadata": {},
   "source": [
    "We obtained `X_train, y_train` via transformations to `train_data_price`.\n",
    "\n",
    "We will now obtain `X_test, y_test` by identical transformations to `test_data_price`\n",
    "\n",
    "**Question:**\n",
    "\n",
    "Create the training data `X_test, y_test`\n",
    "- Apply the same transformations to `test_data_price` as you did to `train_data_price`\n",
    "- To create variable `test_data_ret`\n",
    "- We will convert `test_data_ret` to `X_test, y_test` for you\n",
    "\n",
    "**Hints**\n",
    "\n",
    "Create `test_data_ret` in a manner analogous to the creation of `train_data_ret`\n",
    "- Use `getReturns` to convert price levels to returns\n",
    "- Use `helper.renamePriceToRet` to rename the columns to reflect the change in data from price to return\n",
    "- Drop the first date from `test_data_ret` as it has an undefined return\n"
   ]
  },
  {
   "cell_type": "code",
   "execution_count": 40,
   "metadata": {},
   "outputs": [
    {
     "data": {
      "text/html": [
       "<div>\n",
       "<style scoped>\n",
       "    .dataframe tbody tr th:only-of-type {\n",
       "        vertical-align: middle;\n",
       "    }\n",
       "\n",
       "    .dataframe tbody tr th {\n",
       "        vertical-align: top;\n",
       "    }\n",
       "\n",
       "    .dataframe thead th {\n",
       "        text-align: right;\n",
       "    }\n",
       "</style>\n",
       "<table border=\"1\" class=\"dataframe\">\n",
       "  <thead>\n",
       "    <tr style=\"text-align: right;\">\n",
       "      <th></th>\n",
       "      <th>AAPL_Adj_Close</th>\n",
       "      <th>SPY_Adj_Close</th>\n",
       "    </tr>\n",
       "    <tr>\n",
       "      <th>Dt</th>\n",
       "      <th></th>\n",
       "      <th></th>\n",
       "    </tr>\n",
       "  </thead>\n",
       "  <tbody>\n",
       "    <tr>\n",
       "      <th>2018-09-28</th>\n",
       "      <td>221.6252</td>\n",
       "      <td>285.0555</td>\n",
       "    </tr>\n",
       "    <tr>\n",
       "      <th>2018-10-01</th>\n",
       "      <td>223.1175</td>\n",
       "      <td>286.0458</td>\n",
       "    </tr>\n",
       "    <tr>\n",
       "      <th>2018-10-02</th>\n",
       "      <td>225.1006</td>\n",
       "      <td>285.8791</td>\n",
       "    </tr>\n",
       "    <tr>\n",
       "      <th>2018-10-03</th>\n",
       "      <td>227.8398</td>\n",
       "      <td>286.0359</td>\n",
       "    </tr>\n",
       "    <tr>\n",
       "      <th>2018-10-04</th>\n",
       "      <td>223.8342</td>\n",
       "      <td>283.8004</td>\n",
       "    </tr>\n",
       "  </tbody>\n",
       "</table>\n",
       "</div>"
      ],
      "text/plain": [
       "            AAPL_Adj_Close  SPY_Adj_Close\n",
       "Dt                                       \n",
       "2018-09-28        221.6252       285.0555\n",
       "2018-10-01        223.1175       286.0458\n",
       "2018-10-02        225.1006       285.8791\n",
       "2018-10-03        227.8398       286.0359\n",
       "2018-10-04        223.8342       283.8004"
      ]
     },
     "execution_count": 40,
     "metadata": {},
     "output_type": "execute_result"
    }
   ],
   "source": [
    "test_data_price.head()"
   ]
  },
  {
   "cell_type": "code",
   "execution_count": 41,
   "metadata": {
    "deletable": false,
    "nbgrader": {
     "cell_type": "code",
     "checksum": "9bb948d1fb415c27befc45f997fa29f0",
     "grade": false,
     "grade_id": "cell-7aac82a6b5289f38",
     "locked": false,
     "schema_version": 3,
     "solution": true,
     "task": false
    }
   },
   "outputs": [
    {
     "name": "stdout",
     "output_type": "stream",
     "text": [
      "test data length 63\n",
      "X test length 63\n",
      "y test length 63\n"
     ]
    },
    {
     "data": {
      "text/html": [
       "<div>\n",
       "<style scoped>\n",
       "    .dataframe tbody tr th:only-of-type {\n",
       "        vertical-align: middle;\n",
       "    }\n",
       "\n",
       "    .dataframe tbody tr th {\n",
       "        vertical-align: top;\n",
       "    }\n",
       "\n",
       "    .dataframe thead th {\n",
       "        text-align: right;\n",
       "    }\n",
       "</style>\n",
       "<table border=\"1\" class=\"dataframe\">\n",
       "  <thead>\n",
       "    <tr style=\"text-align: right;\">\n",
       "      <th></th>\n",
       "      <th>AAPL_Ret</th>\n",
       "      <th>SPY_Ret</th>\n",
       "    </tr>\n",
       "    <tr>\n",
       "      <th>Dt</th>\n",
       "      <th></th>\n",
       "      <th></th>\n",
       "    </tr>\n",
       "  </thead>\n",
       "  <tbody>\n",
       "    <tr>\n",
       "      <th>2018-10-01</th>\n",
       "      <td>0.006733</td>\n",
       "      <td>0.003474</td>\n",
       "    </tr>\n",
       "    <tr>\n",
       "      <th>2018-10-02</th>\n",
       "      <td>0.008888</td>\n",
       "      <td>-0.000583</td>\n",
       "    </tr>\n",
       "    <tr>\n",
       "      <th>2018-10-03</th>\n",
       "      <td>0.012169</td>\n",
       "      <td>0.000548</td>\n",
       "    </tr>\n",
       "    <tr>\n",
       "      <th>2018-10-04</th>\n",
       "      <td>-0.017581</td>\n",
       "      <td>-0.007815</td>\n",
       "    </tr>\n",
       "    <tr>\n",
       "      <th>2018-10-05</th>\n",
       "      <td>-0.016229</td>\n",
       "      <td>-0.005597</td>\n",
       "    </tr>\n",
       "  </tbody>\n",
       "</table>\n",
       "</div>"
      ],
      "text/plain": [
       "            AAPL_Ret   SPY_Ret\n",
       "Dt                            \n",
       "2018-10-01  0.006733  0.003474\n",
       "2018-10-02  0.008888 -0.000583\n",
       "2018-10-03  0.012169  0.000548\n",
       "2018-10-04 -0.017581 -0.007815\n",
       "2018-10-05 -0.016229 -0.005597"
      ]
     },
     "execution_count": 41,
     "metadata": {},
     "output_type": "execute_result"
    }
   ],
   "source": [
    "test_data_ret = None\n",
    "X_test = None\n",
    "y_test = None\n",
    "\n",
    "# YOUR CODE HERE\n",
    "# Step 1: Apply the getReturns function to test data\n",
    "test_data_ret = getReturns(test_data_price)\n",
    "\n",
    "# Step 2: Rename the columns using helper.renamePriceToRet\n",
    "test_data_ret = helper.renamePriceToRet(test_data_ret)\n",
    "\n",
    "# Step 3: Drop the first row\n",
    "test_data_ret = test_data_ret.iloc[1:]\n",
    "\n",
    "\n",
    "X_test, y_test =  test_data_ret.drop(columns=[tickerAttr]), test_data_ret[[ tickerAttr ]]\n",
    "\n",
    "print(\"test data length\", test_data_ret.shape[0])\n",
    "print(\"X test length\", X_test.shape[0])\n",
    "print(\"y test length\", y_test.shape[0])\n",
    "test_data_ret.head()"
   ]
  },
  {
   "cell_type": "code",
   "execution_count": null,
   "metadata": {
    "deletable": false,
    "editable": false,
    "nbgrader": {
     "cell_type": "code",
     "checksum": "c137763d9ad534ea037c78bc5efe686e",
     "grade": true,
     "grade_id": "check-transform-test-data",
     "locked": true,
     "points": 10,
     "schema_version": 3,
     "solution": false
    }
   },
   "outputs": [],
   "source": []
  },
  {
   "cell_type": "markdown",
   "metadata": {},
   "source": [
    "# Train a model (Regression)\n",
    "\n",
    "Use Linear Regression to predict the return of a ticker from the return of the market proxy $\\spy$.\n",
    "For example, for ticker $\\aapl$\n",
    "\n",
    "$$\n",
    "\\ret_\\aapl^\\tp = \\beta_0 + \\beta_{\\aapl, \\spy} * \\ret_\\spy^\\tp + \\epsilon_{\\aapl}^\\tp\n",
    "$$\n",
    "\n",
    "Each example corresponds to one day (time $t$)\n",
    "- has features\n",
    "    - constant 1, corresponding to the intercept parameter\n",
    "    - return of the market proxy $\\spy$\n",
    "       $$\\x^\\tp = \\begin{pmatrix}\n",
    "        1 \\\\\n",
    "        \\ret_\\spy^\\tp\n",
    "        \\end{pmatrix}$$\n",
    "\n",
    "- has target\n",
    "    - return of the ticker\n",
    "    $$\\y^\\tp = \\ret_\\aapl^\\tp$$\n",
    "\n",
    " \n",
    "You will use Linear Regression to solve for parameters $\\beta_0$,  $\\beta_{\\aapl, \\spy}$ \n",
    "\n",
    "- In the lectures we used the symbol $\\Theta$ to denote the parameter vector; here we use $\\mathbf{\\beta}$\n",
    "- In Finance the symbol $\\beta$ is often used to denote the relationship between returns.\n",
    "- Rather than explicitly creating a constant 1 feature\n",
    "    - you may invoke the model object with the option including an intercept\n",
    "    - if you do so, the feature vector you pass will be\n",
    "   $$\\x^\\tp = \\begin{pmatrix}\n",
    "        \\ret_\\spy^\\tp\n",
    "        \\end{pmatrix}$$  \n",
    "    \n",
    "\n",
    "\n",
    "- Use the entire training set\n",
    "- Do not use cross-validation"
   ]
  },
  {
   "cell_type": "markdown",
   "metadata": {},
   "source": [
    "\n",
    "**Question:**\n",
    "\n",
    "Train your model to estimate the parameters beta_0 and beta_SPY   \n",
    "\n",
    "- Complete the function `createModel()` to build your linear regression model. The detailed description is in the function below.\n",
    "- Complete the function `regress()` to perform the regression and return two item: the intercept and coefficients. The detailed description is in the function below.\n",
    "    - `beta_0` is the regression parameter for the constant; \n",
    "    - `beta_SPY` is the regression parameter for the return of SPY. \n",
    "    - We will test if the parameters of your regression are correct. We have initialized them to be 0. \n",
    "\n",
    "**Hints:**\n",
    "- The input model of your function `regress()` should be the model you get from function `createModel()`\n",
    "- Before you input your `X_train` and `y_train` into your `sklearn` model, you need to convert them from type `DataFrame` into type `ndarray`. \n",
    "    - You can convert a `DataFrame` into an `ndarray` with the `values` attribute, e.g., `X_train.values`"
   ]
  },
  {
   "cell_type": "code",
   "execution_count": 44,
   "metadata": {
    "deletable": false,
    "nbgrader": {
     "cell_type": "code",
     "checksum": "b718618bc5186f7c1fe31eaa9b98167a",
     "grade": false,
     "grade_id": "ticker-regression",
     "locked": false,
     "schema_version": 3,
     "solution": true,
     "task": false
    }
   },
   "outputs": [
    {
     "name": "stdout",
     "output_type": "stream",
     "text": [
      "AAPL: beta_0=0.001, beta_SPY=1.071\n"
     ]
    }
   ],
   "source": [
    "from sklearn import datasets, linear_model\n",
    "\n",
    "beta_0 = 0    # The regression parameter for the constant\n",
    "beta_SPY = 0  # The regression parameter for the return of SPY\n",
    "ticker = \"AAPL\"\n",
    "\n",
    "def createModel():\n",
    "    '''\n",
    "    Build your linear regression model using sklearn\n",
    "    \n",
    "    Returns\n",
    "    -------\n",
    "    An sklearn model object implementing Linear Regression\n",
    "    '''\n",
    "    # YOUR CODE HERE\n",
    "    model = linear_model.LinearRegression(fit_intercept=True)\n",
    "    return model\n",
    "\n",
    "def regress(model, X, y):\n",
    "    '''\n",
    "    Do regression using returns of your ticker and index\n",
    "    \n",
    "    Parameters\n",
    "    -----------\n",
    "    model: model object implementing Linear Regression\n",
    "        \n",
    "    X: DataFrame\n",
    "    - Index returns\n",
    "    \n",
    "    y: DataFrame\n",
    "    - Ticker returns\n",
    "    \n",
    "    Returns\n",
    "    -------\n",
    "    Tuple (beta_0, beta_SPY)\n",
    "    where,\n",
    "        beta_0: Scalar number \n",
    "        - Parameter for the constant\n",
    "\n",
    "        beta_SPY: Scalar number\n",
    "        - Parameter for the return of SPY\n",
    "    \n",
    "\n",
    "    '''\n",
    "    # YOUR CODE HERE\n",
    "    # Convert DataFrame to ndarray for sklearn compatibility\n",
    "    X_values = X.values\n",
    "    y_values = y.values.ravel()\n",
    "\n",
    "    # Fit the model\n",
    "    model.fit(X_values, y_values)\n",
    "\n",
    "    # Extract the coefficients\n",
    "    beta_0 = model.intercept_\n",
    "    beta_SPY = model.coef_[0]\n",
    "    \n",
    "    return beta_0, beta_SPY\n",
    "\n",
    "\n",
    "# Assign to answer variables\n",
    "regr = createModel()\n",
    "\n",
    "beta_0, beta_SPY = regress(regr, X_train, y_train)\n",
    "\n",
    "\n",
    "print(\"{t:s}: beta_0={b0:3.3f}, beta_SPY={b1:3.3f}\".format(t=ticker, b0=beta_0, b1=beta_SPY))"
   ]
  },
  {
   "cell_type": "markdown",
   "metadata": {},
   "source": [
    "Your expected outputs should be:\n",
    "<table> \n",
    "    <tr> \n",
    "        <td>  \n",
    "            beta_0\n",
    "        </td>\n",
    "        <td>\n",
    "         0.001\n",
    "        </td>\n",
    "    </tr>\n",
    "    <tr> \n",
    "        <td>\n",
    "            beta_SPY\n",
    "        </td>\n",
    "        <td>\n",
    "         1.071\n",
    "        </td>\n",
    "    </tr>\n",
    "\n",
    "</table>"
   ]
  },
  {
   "cell_type": "code",
   "execution_count": null,
   "metadata": {
    "deletable": false,
    "editable": false,
    "nbgrader": {
     "cell_type": "code",
     "checksum": "cb2f3a1ed2eb50e8f5f696a4f3ba96c8",
     "grade": true,
     "grade_id": "check-ticker-regression",
     "locked": true,
     "points": 50,
     "schema_version": 3,
     "solution": false,
     "task": false
    }
   },
   "outputs": [],
   "source": []
  },
  {
   "cell_type": "markdown",
   "metadata": {},
   "source": [
    "## Train the model using Cross validation\n",
    "\n",
    "Since we only have one test set, we want to use 5-fold cross validation to assess model performance.\n",
    "\n",
    "**Question:**\n",
    "- Complete the function `compute_cross_val_avg()` to compute the average score of 5-fold cross validation\n",
    "    - Set `cross_val_avg` as your average score of k-fold results\n",
    "    - Set `k = 5` as the number of folds\n",
    "\n",
    "**Hint:**  \n",
    "- You can use the `cross_val_score` in `sklearn.model_selection`"
   ]
  },
  {
   "cell_type": "code",
   "execution_count": 47,
   "metadata": {
    "deletable": false,
    "nbgrader": {
     "cell_type": "code",
     "checksum": "c6c989d4f469e55a0b2acb26e3d8718b",
     "grade": false,
     "grade_id": "cell-682c309ea0167241",
     "locked": false,
     "schema_version": 3,
     "solution": true,
     "task": false
    }
   },
   "outputs": [
    {
     "name": "stdout",
     "output_type": "stream",
     "text": [
      "AAPL: Avg cross val score = 0.33\n"
     ]
    }
   ],
   "source": [
    "from sklearn.model_selection import cross_val_score\n",
    "\n",
    "cross_val_avg = 0 # average score of cross validation\n",
    "k = 5             # 5-fold cross validation\n",
    "\n",
    "def compute_cross_val_avg(model, X, y, k):\n",
    "    '''\n",
    "    Compute the average score of k-fold cross validation\n",
    "    \n",
    "    Parameters\n",
    "    -----------\n",
    "    model: An sklearn model\n",
    "    \n",
    "    X: DataFrame\n",
    "    - Index returns\n",
    "    \n",
    "    y: DataFrame\n",
    "    - Ticker returns\n",
    "    \n",
    "    k: Scalar number\n",
    "    - k-fold cross validation\n",
    "    \n",
    "    Returns\n",
    "    --------\n",
    "    The average, across the k iterations, of the score\n",
    "    '''\n",
    "    # YOUR CODE HERE\n",
    "    scores = cross_val_score(model, X, y, cv=k)\n",
    "    return scores.mean()\n",
    "    \n",
    "cross_val_avg = compute_cross_val_avg(regr, X_train, y_train, 5)\n",
    "print(\"{t:s}: Avg cross val score = {sc:3.2f}\".format(t=ticker, sc=cross_val_avg) )"
   ]
  },
  {
   "cell_type": "code",
   "execution_count": null,
   "metadata": {
    "deletable": false,
    "editable": false,
    "nbgrader": {
     "cell_type": "code",
     "checksum": "266249d1716bfc1e8f31bef5c1425892",
     "grade": true,
     "grade_id": "Check-cross-validation",
     "locked": true,
     "points": 10,
     "schema_version": 3,
     "solution": false
    }
   },
   "outputs": [],
   "source": []
  },
  {
   "cell_type": "markdown",
   "metadata": {},
   "source": [
    "## Evaluate Loss (in sample RMSE) and Performance (Out of sample RMSE)\n",
    "\n",
    "To see how well your model performs, we can check the in-sample loss and out-of-sample performance.   \n",
    "\n",
    "**Question:**\n",
    "- Complete the function `computeRMSE()` to compute the Root of Mean Square Error (RMSE)\n",
    "    - Set `rmse_in_sample` to be in-sample loss\n",
    "    - Set `rmse_out_sample` to be out-of-sample performance"
   ]
  },
  {
   "cell_type": "code",
   "execution_count": 49,
   "metadata": {
    "deletable": false,
    "nbgrader": {
     "cell_type": "code",
     "checksum": "f485412da45c631160b56810f7472aaa",
     "grade": false,
     "grade_id": "cell-da0f1fee111433fd",
     "locked": false,
     "schema_version": 3,
     "solution": true,
     "task": false
    }
   },
   "outputs": [
    {
     "name": "stdout",
     "output_type": "stream",
     "text": [
      "In Sample Root Mean squared error: 0.011\n",
      "Out of Sample Root Mean squared error: 0.015\n"
     ]
    },
    {
     "name": "stderr",
     "output_type": "stream",
     "text": [
      "/opt/anaconda3/lib/python3.11/site-packages/sklearn/base.py:432: UserWarning: X has feature names, but LinearRegression was fitted without feature names\n",
      "  warnings.warn(\n",
      "/opt/anaconda3/lib/python3.11/site-packages/sklearn/base.py:432: UserWarning: X has feature names, but LinearRegression was fitted without feature names\n",
      "  warnings.warn(\n"
     ]
    }
   ],
   "source": [
    "from sklearn.metrics import mean_squared_error\n",
    "\n",
    "rmse_in_sample = 0 # in sample loss\n",
    "rmse_out_sample = 0 # out of sample performance\n",
    "\n",
    "# Predicted  in-sample returns of AAPL using SPY index\n",
    "aapl_predicted_in_sample = regr.predict(X_train)\n",
    "# Predicted out-of-sample returns of AAPL using SPY index\n",
    "aapl_predicted_out_sample = regr.predict(X_test)\n",
    "\n",
    "def computeRMSE( target, predicted ):\n",
    "    '''\n",
    "    Calculate the RMSE\n",
    "    \n",
    "    Parameters\n",
    "    ----------\n",
    "    target: DataFrame\n",
    "    - Real ticker returns\n",
    "    \n",
    "    predicted: ndarray\n",
    "    - Predicted ticker returns\n",
    "    \n",
    "    Return\n",
    "    ------\n",
    "    Scalar number\n",
    "    - The value of the RMSE\n",
    "    '''\n",
    "    # YOUR CODE HERE\n",
    "    # Calculate the RMSE using mean_squared_error from sklearn\n",
    "    return np.sqrt(mean_squared_error(target, predicted))\n",
    "\n",
    "# Calculate RMSE for in-sample and out-of-sample data\n",
    "rmse_in_sample = computeRMSE(y_train, aapl_predicted_in_sample)\n",
    "rmse_out_sample = computeRMSE(y_test, aapl_predicted_out_sample)\n",
    "\n",
    "\n",
    "print(\"In Sample Root Mean squared error: {:.3f}\".format( rmse_in_sample ) )\n",
    "print(\"Out of Sample Root Mean squared error: {:.3f}\".format( rmse_out_sample ) )"
   ]
  },
  {
   "cell_type": "code",
   "execution_count": null,
   "metadata": {
    "deletable": false,
    "editable": false,
    "nbgrader": {
     "cell_type": "code",
     "checksum": "77133443ae1ee4de8d456d018215dbc4",
     "grade": true,
     "grade_id": "check-evaluation",
     "locked": true,
     "points": 10,
     "schema_version": 3,
     "solution": false
    }
   },
   "outputs": [],
   "source": []
  },
  {
   "cell_type": "markdown",
   "metadata": {},
   "source": [
    "## Hedged returns\n",
    "\n",
    "Why is being able to predict the return of a ticker, given the return of another instrument (e.g., the market proxy) useful ?\n",
    "- It **does not** allow us to predict the future\n",
    "    - To predict $\\ret_\\aapl^\\tp$, we require the same day return of the proxy $\\ret_\\spy$\n",
    "- It **does** allow us to predict how much $\\aapl$ will outperform the market proxy\n",
    "\n",
    "Consider an investment that goes long (i.e, holds a positive quantity) of $\\aapl$\n",
    "- Since the relationship between returns is positive\n",
    "    - You will likely make money if the market goes up\n",
    "    - You will likely lose money if the market goes down\n",
    "    \n",
    "Consider instead a *hedged* investment\n",
    "- Go long 1 USD of $\\aapl$\n",
    "- Go short (hold a negative quantity) $\\beta_{\\aapl,\\spy}$ USD of the market proxy $\\spy$\n",
    "\n",
    "Your *hedged return* on this long/short portfolio will be\n",
    "$$\n",
    "{\\ret'}_{\\aapl}^\\tp = \\ret_\\aapl^\\tp - \\beta_{\\aapl, \\spy} * \\ret_\\spy^\\tp\n",
    "$$\n",
    "\n",
    "As long as\n",
    "$$\n",
    "\\ret_\\aapl^\\tp \\gt \\beta_{\\aapl, \\spy} * \\ret_\\spy^\\tp\n",
    "$$\n",
    "you will make a profit, regardless of whether the market proxy rises or falls !\n",
    "\n",
    "That is: you make money as long as $\\aapl$ *outperforms* the market proxy.\n"
   ]
  },
  {
   "cell_type": "markdown",
   "metadata": {},
   "source": [
    "This hedged portfolio is interesting\n",
    "- Because your returns are independent of the market\n",
    "- The volatility of your returns is likely much lower than the volatility of the long-only investment\n",
    "- There is a belief that it is difficult to predict the market $\\ret_\\spy$\n",
    "- But you might be able to discover a ticker (e.g., $\\aapl$) that will outpeform the market\n",
    "\n",
    "This is a real world application of the Regression task in Finance."
   ]
  },
  {
   "cell_type": "markdown",
   "metadata": {},
   "source": [
    "## Compute the hedged return on the test data examples\n",
    "$$\n",
    "{\\ret'}_{\\aapl}^\\tp = \\ret_\\aapl^\\tp - \\beta_{\\aapl, \\spy} * \\ret_\\spy^\\tp\n",
    "$$\n",
    "for all dates $t$ in the **test set**.  \n",
    "\n",
    "\n",
    "**Question:**  \n",
    "\n",
    "Compute the hedged returns using your predicted series\n",
    "\n",
    "- Complete the function `compute_hedged_series()` \n",
    "    - It should use your model results and the **test exmples** to compute the hedged returns. The detailed description is in the function below\n",
    "\n",
    "**Hint**\n",
    "- An `sklearn` model, once fitted, may have attributes `coef_` that give you access to the parameters\n",
    "\n"
   ]
  },
  {
   "cell_type": "code",
   "execution_count": 53,
   "metadata": {
    "deletable": false,
    "nbgrader": {
     "cell_type": "code",
     "checksum": "e68789b0c4a1b16083ee835e0ac45d90",
     "grade": false,
     "grade_id": "cell-615640674398f9ff",
     "locked": false,
     "schema_version": 3,
     "solution": true,
     "task": false
    }
   },
   "outputs": [
    {
     "name": "stdout",
     "output_type": "stream",
     "text": [
      "[ 0.00301178  0.00951245  0.01158121 -0.00920831 -0.01023281]\n"
     ]
    }
   ],
   "source": [
    "hedged_series = pd.DataFrame()\n",
    "\n",
    "def compute_hedged_series(model, X, y):\n",
    "    '''\n",
    "    Compute the hedged series\n",
    "    \n",
    "    Parameters\n",
    "    ----------\n",
    "    model: An sklearn model\n",
    "    \n",
    "    X: DataFrame\n",
    "    - Index returns\n",
    "    \n",
    "    y: DataFrame\n",
    "    - Ticker returns\n",
    "    \n",
    "    Return\n",
    "    ------\n",
    "    ndarray\n",
    "    - Hedged return series \n",
    "    '''\n",
    "    \n",
    "    # YOUR CODE HERE\n",
    "    # Get beta_AAPL_SPY (coefficient of SPY return) from the fitted model\n",
    "    beta_SPY = model.coef_[0] \n",
    "    \n",
    "    # Compute the hedged return as (actual return - beta_SPY * SPY return)\n",
    "    hedged_return = y.values.flatten() - beta_SPY * X.values.flatten()\n",
    "    \n",
    "    return hedged_return\n",
    "\n",
    "hedged_series = compute_hedged_series(regr, X_test, y_test)\n",
    "print(hedged_series[:5])"
   ]
  },
  {
   "cell_type": "code",
   "execution_count": null,
   "metadata": {
    "deletable": false,
    "editable": false,
    "nbgrader": {
     "cell_type": "code",
     "checksum": "89cb1ce909fb57873f20f6e7d7dda4cb",
     "grade": true,
     "grade_id": "check-hedged-series",
     "locked": true,
     "points": 10,
     "schema_version": 3,
     "solution": false
    }
   },
   "outputs": [],
   "source": []
  },
  {
   "cell_type": "markdown",
   "metadata": {},
   "source": [
    "# A model with more than one feature\n",
    "\n",
    "Our simple model used a single feature (return of \"the market\") to make predictions.\n",
    "- There are many more timeseries, stored as .CSV files, in the data directory\n",
    "\n",
    "**Question**\n",
    "- Construct a model with *more than one* feature by choosing from among these timeseries\n",
    "- Use the \"Exploratory Data Analysis\" step of the Recipe to gain insights into which additional features may be most valuable\n",
    "    - you are trying to find features that are predictive of the target\n",
    "    - you can use a number of technqiues; it does not need to be a visualization\n",
    "- *Explain* why/how you chose the additional features\n",
    "    - You may run multiple experiments if you choose\n",
    "    - **Remember:** your notebook is a *movie*; we want to see your journey to your solution, not just the last step\n",
    "- Report the average of the scores when using 5 fold cross-validation\n",
    "- Report the in-sample and out of sample RMSE\n",
    "\n"
   ]
  },
  {
   "cell_type": "code",
   "execution_count": 55,
   "metadata": {},
   "outputs": [
    {
     "name": "stdout",
     "output_type": "stream",
     "text": [
      "Index(['Dt', 'Adj Close', 'Close', 'Div', 'Factor', 'High', 'Low', 'Open',\n",
      "       'Volume'],\n",
      "      dtype='object')\n"
     ]
    }
   ],
   "source": [
    "df_sample = pd.read_csv('./Data/AAPL.csv')\n",
    "print(df_sample.columns)"
   ]
  },
  {
   "cell_type": "code",
   "execution_count": 56,
   "metadata": {},
   "outputs": [
    {
     "name": "stdout",
     "output_type": "stream",
     "text": [
      "            AAPL_Adj Close   Close  Div  Factor     High     Low      Open  \\\n",
      "Dt                                                                           \n",
      "2017-01-03        110.9539  116.15  0.0     1.0  116.330  114.76  115.8000   \n",
      "2017-01-04        110.8297  116.02  0.0     1.0  116.510  115.75  115.8500   \n",
      "2017-01-05        111.3933  116.61  0.0     1.0  116.864  115.81  115.9200   \n",
      "2017-01-06        112.6351  117.91  0.0     1.0  118.160  116.47  116.7789   \n",
      "2017-01-09        113.6668  118.99  0.0     1.0  119.430  117.94  117.9500   \n",
      "\n",
      "                Volume  SPY_Adj Close   Close  ...   Open      Volume  \\\n",
      "Dt                                             ...                      \n",
      "2017-01-03  28781900.0       213.8428  225.24  ...  78.76  13785200.0   \n",
      "2017-01-04  21118100.0       215.1149  226.58  ...  79.44   8033100.0   \n",
      "2017-01-05  22193600.0       214.9440  226.40  ...  80.34   7805100.0   \n",
      "2017-01-06  31751900.0       215.7131  227.21  ...  81.30   8898300.0   \n",
      "2017-01-09  33561900.0       215.0010  226.46  ...  82.28   7305300.0   \n",
      "\n",
      "            NVDA_Adj Close   Close  Div  Factor    High     Low    Open  \\\n",
      "Dt                                                                        \n",
      "2017-01-03        101.0116  102.01  0.0     1.0  106.37   99.38  104.40   \n",
      "2017-01-04        103.3683  104.39  0.0     1.0  105.50  101.53  103.40   \n",
      "2017-01-05        100.7443  101.74  0.0     1.0  105.82  101.05  104.53   \n",
      "2017-01-06        102.0910  103.10  0.0     1.0  104.25  101.20  102.85   \n",
      "2017-01-09        106.2301  107.28  0.0     1.0  108.00  103.50  103.50   \n",
      "\n",
      "                Volume  \n",
      "Dt                      \n",
      "2017-01-03  37549900.0  \n",
      "2017-01-04  29980500.0  \n",
      "2017-01-05  24607400.0  \n",
      "2017-01-06  20571400.0  \n",
      "2017-01-09  22906200.0  \n",
      "\n",
      "[5 rows x 48 columns]\n"
     ]
    }
   ],
   "source": [
    "# Step 1\n",
    "# Load several tickers' data\n",
    "tickers = [\"AAPL\", \"SPY\", \"GOOG\", \"MSFT\", \"V\", \"NVDA\"]\n",
    "\n",
    "dataframes = []\n",
    "for ticker in tickers:\n",
    "    df = pd.read_csv(f'./Data/{ticker}.csv', index_col='Dt', parse_dates=True)\n",
    "    # Rename columns to include the ticker name for each 'Adj Close' column\n",
    "    df = df.rename(columns={\"Adj Close\": f\"{ticker}_Adj Close\"})\n",
    "    dataframes.append(df)\n",
    "\n",
    "# Merge all the timeseries data into a single DataFrame\n",
    "combined_data = pd.concat(dataframes, axis=1)\n",
    "print(combined_data.head())"
   ]
  },
  {
   "cell_type": "code",
   "execution_count": 57,
   "metadata": {},
   "outputs": [
    {
     "name": "stdout",
     "output_type": "stream",
     "text": [
      "            AAPL_Adj Close  SPY_Adj Close  GOOG_Adj Close  MSFT_Adj Close  \\\n",
      "Dt                                                                          \n",
      "2017-01-03        110.9539       213.8428          786.14         59.4966   \n",
      "2017-01-04        110.8297       215.1149          786.90         59.2304   \n",
      "2017-01-05        111.3933       214.9440          794.02         59.2304   \n",
      "2017-01-06        112.6351       215.7131          806.15         59.7438   \n",
      "2017-01-09        113.6668       215.0010          806.65         59.5536   \n",
      "\n",
      "            V_Adj Close  NVDA_Adj Close  \n",
      "Dt                                       \n",
      "2017-01-03      78.0492        101.0116  \n",
      "2017-01-04      78.6874        103.3683  \n",
      "2017-01-05      79.6102        100.7443  \n",
      "2017-01-06      80.7098        102.0910  \n",
      "2017-01-09      80.2582        106.2301  \n"
     ]
    }
   ],
   "source": [
    "# Step 2\n",
    "# Select the 'Adj Close' columns for each ticker\n",
    "adj_close_columns = [f\"{ticker}_Adj Close\" for ticker in tickers]\n",
    "filtered_data = combined_data[adj_close_columns]\n",
    "\n",
    "# Display the filtered data\n",
    "print(filtered_data.head())\n"
   ]
  },
  {
   "cell_type": "code",
   "execution_count": 99,
   "metadata": {},
   "outputs": [
    {
     "name": "stdout",
     "output_type": "stream",
     "text": [
      "Training samples: 569\n",
      "Testing samples: 143\n"
     ]
    }
   ],
   "source": [
    "# Step 3: Define Performance Measure and Create Test Set\n",
    "\n",
    "# Calculate daily returns for each adjusted close price\n",
    "returns = combined_data.filter(like='_Adj Close').pct_change()\n",
    "\n",
    "# Rename columns to reflect that they are returns\n",
    "returns.columns = [col.replace('_Adj Close', '_Return') for col in returns.columns]\n",
    "\n",
    "# Drop the first row due to NaN values from pct_change\n",
    "returns = returns.dropna()\n",
    "\n",
    "# Merge returns with the original data\n",
    "data = combined_data.merge(returns, left_index=True, right_index=True, how='left')\n",
    "\n",
    "# Drop any remaining NaN values\n",
    "data = data.dropna()\n",
    "\n",
    "# Define the target variable and features\n",
    "target = 'AAPL_Return'\n",
    "features = [col for col in data.columns if '_Return' in col and col != target]\n",
    "\n",
    "# Prepare the feature matrix X and target vector y\n",
    "X = data[features]\n",
    "y = data[target]\n",
    "\n",
    "# Split the data into training and test sets (e.g., 80% train, 20% test)\n",
    "split_index = int(len(data) * 0.8)\n",
    "X_train, X_test = X.iloc[:split_index], X.iloc[split_index:]\n",
    "y_train, y_test = y.iloc[:split_index], y.iloc[split_index:]\n",
    "\n",
    "print(f'Training samples: {X_train.shape[0]}')\n",
    "print(f'Testing samples: {X_test.shape[0]}')"
   ]
  },
  {
   "cell_type": "code",
   "execution_count": 101,
   "metadata": {},
   "outputs": [
    {
     "name": "stdout",
     "output_type": "stream",
     "text": [
      "AAPL_Return    1.000000\n",
      "SPY_Return     0.700812\n",
      "MSFT_Return    0.647847\n",
      "GOOG_Return    0.640036\n",
      "V_Return       0.620341\n",
      "NVDA_Return    0.472675\n",
      "Name: AAPL_Return, dtype: float64\n"
     ]
    }
   ],
   "source": [
    "# Step 4: Exploratory Data Analysis (EDA)\n",
    "# Calculate the correlation matrix using only the training data to prevent data leakage\n",
    "corr_matrix = X_train.copy()\n",
    "corr_matrix[target] = y_train\n",
    "corr = corr_matrix.corr()\n",
    "\n",
    "# Display the correlations of AAPL_Return with other returns\n",
    "print(corr[target].sort_values(ascending=False))\n"
   ]
  },
  {
   "cell_type": "code",
   "execution_count": 103,
   "metadata": {},
   "outputs": [],
   "source": [
    "# Step 5: Feature Selection\n",
    "\n",
    "# Select the top features\n",
    "selected_features = ['MSFT_Return', 'SPY_Return', 'GOOG_Return']\n",
    "\n",
    "# Update the feature matrices\n",
    "X_train_selected = X_train[selected_features]\n",
    "X_test_selected = X_test[selected_features]"
   ]
  },
  {
   "cell_type": "code",
   "execution_count": 111,
   "metadata": {},
   "outputs": [],
   "source": [
    "# Step 6: Model Building\n",
    "\n",
    "from sklearn.linear_model import LinearRegression\n",
    "\n",
    "# Initialize the model\n",
    "model = LinearRegression()"
   ]
  },
  {
   "cell_type": "code",
   "execution_count": 113,
   "metadata": {},
   "outputs": [
    {
     "name": "stdout",
     "output_type": "stream",
     "text": [
      "Cross-Validation RMSE scores: [0.01043876 0.01007216 0.01048041 0.01384197 0.01243486]\n",
      "Average CV RMSE: 0.011453632764547103\n"
     ]
    }
   ],
   "source": [
    "# Step 7: Cross-Validation\n",
    "\n",
    "from sklearn.model_selection import TimeSeriesSplit, cross_val_score\n",
    "from sklearn.metrics import make_scorer\n",
    "\n",
    "# Use TimeSeriesSplit for time series data\n",
    "tscv = TimeSeriesSplit(n_splits=5)\n",
    "\n",
    "# Define RMSE scorer\n",
    "def rmse(y_true, y_pred):\n",
    "    return np.sqrt(mean_squared_error(y_true, y_pred))\n",
    "\n",
    "rmse_scorer = make_scorer(rmse, greater_is_better=False)\n",
    "\n",
    "# Perform cross-validation\n",
    "cv_scores = cross_val_score(model, X_train_selected, y_train, cv=tscv, scoring=rmse_scorer)\n",
    "\n",
    "# Since 'greater_is_better=False', scores are negative; take negative to get positive RMSE values\n",
    "cv_rmse_scores = -cv_scores\n",
    "\n",
    "print(f'Cross-Validation RMSE scores: {cv_rmse_scores}')\n",
    "print(f'Average CV RMSE: {np.mean(cv_rmse_scores)}')\n"
   ]
  },
  {
   "cell_type": "code",
   "execution_count": 115,
   "metadata": {},
   "outputs": [
    {
     "data": {
      "text/html": [
       "<style>#sk-container-id-5 {color: black;background-color: white;}#sk-container-id-5 pre{padding: 0;}#sk-container-id-5 div.sk-toggleable {background-color: white;}#sk-container-id-5 label.sk-toggleable__label {cursor: pointer;display: block;width: 100%;margin-bottom: 0;padding: 0.3em;box-sizing: border-box;text-align: center;}#sk-container-id-5 label.sk-toggleable__label-arrow:before {content: \"▸\";float: left;margin-right: 0.25em;color: #696969;}#sk-container-id-5 label.sk-toggleable__label-arrow:hover:before {color: black;}#sk-container-id-5 div.sk-estimator:hover label.sk-toggleable__label-arrow:before {color: black;}#sk-container-id-5 div.sk-toggleable__content {max-height: 0;max-width: 0;overflow: hidden;text-align: left;background-color: #f0f8ff;}#sk-container-id-5 div.sk-toggleable__content pre {margin: 0.2em;color: black;border-radius: 0.25em;background-color: #f0f8ff;}#sk-container-id-5 input.sk-toggleable__control:checked~div.sk-toggleable__content {max-height: 200px;max-width: 100%;overflow: auto;}#sk-container-id-5 input.sk-toggleable__control:checked~label.sk-toggleable__label-arrow:before {content: \"▾\";}#sk-container-id-5 div.sk-estimator input.sk-toggleable__control:checked~label.sk-toggleable__label {background-color: #d4ebff;}#sk-container-id-5 div.sk-label input.sk-toggleable__control:checked~label.sk-toggleable__label {background-color: #d4ebff;}#sk-container-id-5 input.sk-hidden--visually {border: 0;clip: rect(1px 1px 1px 1px);clip: rect(1px, 1px, 1px, 1px);height: 1px;margin: -1px;overflow: hidden;padding: 0;position: absolute;width: 1px;}#sk-container-id-5 div.sk-estimator {font-family: monospace;background-color: #f0f8ff;border: 1px dotted black;border-radius: 0.25em;box-sizing: border-box;margin-bottom: 0.5em;}#sk-container-id-5 div.sk-estimator:hover {background-color: #d4ebff;}#sk-container-id-5 div.sk-parallel-item::after {content: \"\";width: 100%;border-bottom: 1px solid gray;flex-grow: 1;}#sk-container-id-5 div.sk-label:hover label.sk-toggleable__label {background-color: #d4ebff;}#sk-container-id-5 div.sk-serial::before {content: \"\";position: absolute;border-left: 1px solid gray;box-sizing: border-box;top: 0;bottom: 0;left: 50%;z-index: 0;}#sk-container-id-5 div.sk-serial {display: flex;flex-direction: column;align-items: center;background-color: white;padding-right: 0.2em;padding-left: 0.2em;position: relative;}#sk-container-id-5 div.sk-item {position: relative;z-index: 1;}#sk-container-id-5 div.sk-parallel {display: flex;align-items: stretch;justify-content: center;background-color: white;position: relative;}#sk-container-id-5 div.sk-item::before, #sk-container-id-5 div.sk-parallel-item::before {content: \"\";position: absolute;border-left: 1px solid gray;box-sizing: border-box;top: 0;bottom: 0;left: 50%;z-index: -1;}#sk-container-id-5 div.sk-parallel-item {display: flex;flex-direction: column;z-index: 1;position: relative;background-color: white;}#sk-container-id-5 div.sk-parallel-item:first-child::after {align-self: flex-end;width: 50%;}#sk-container-id-5 div.sk-parallel-item:last-child::after {align-self: flex-start;width: 50%;}#sk-container-id-5 div.sk-parallel-item:only-child::after {width: 0;}#sk-container-id-5 div.sk-dashed-wrapped {border: 1px dashed gray;margin: 0 0.4em 0.5em 0.4em;box-sizing: border-box;padding-bottom: 0.4em;background-color: white;}#sk-container-id-5 div.sk-label label {font-family: monospace;font-weight: bold;display: inline-block;line-height: 1.2em;}#sk-container-id-5 div.sk-label-container {text-align: center;}#sk-container-id-5 div.sk-container {/* jupyter's `normalize.less` sets `[hidden] { display: none; }` but bootstrap.min.css set `[hidden] { display: none !important; }` so we also need the `!important` here to be able to override the default hidden behavior on the sphinx rendered scikit-learn.org. See: https://github.com/scikit-learn/scikit-learn/issues/21755 */display: inline-block !important;position: relative;}#sk-container-id-5 div.sk-text-repr-fallback {display: none;}</style><div id=\"sk-container-id-5\" class=\"sk-top-container\"><div class=\"sk-text-repr-fallback\"><pre>LinearRegression()</pre><b>In a Jupyter environment, please rerun this cell to show the HTML representation or trust the notebook. <br />On GitHub, the HTML representation is unable to render, please try loading this page with nbviewer.org.</b></div><div class=\"sk-container\" hidden><div class=\"sk-item\"><div class=\"sk-estimator sk-toggleable\"><input class=\"sk-toggleable__control sk-hidden--visually\" id=\"sk-estimator-id-5\" type=\"checkbox\" checked><label for=\"sk-estimator-id-5\" class=\"sk-toggleable__label sk-toggleable__label-arrow\">LinearRegression</label><div class=\"sk-toggleable__content\"><pre>LinearRegression()</pre></div></div></div></div></div>"
      ],
      "text/plain": [
       "LinearRegression()"
      ]
     },
     "execution_count": 115,
     "metadata": {},
     "output_type": "execute_result"
    },
    {
     "name": "stdout",
     "output_type": "stream",
     "text": [
      "In-sample RMSE (Training Set): 0.010828177589940938\n",
      "Out-of-sample RMSE (Test Set): 0.011335210707001527\n"
     ]
    }
   ],
   "source": [
    "# Step 8: Model Evaluation\n",
    "\n",
    "# Retrain the model on the entire training set\n",
    "model.fit(X_train_selected, y_train)\n",
    "\n",
    "# Make predictions on the training set to calculate in-sample RMSE\n",
    "y_train_pred = model.predict(X_train_selected)\n",
    "train_rmse = np.sqrt(mean_squared_error(y_train, y_train_pred))\n",
    "\n",
    "# Make predictions on the test set\n",
    "y_test_pred = model.predict(X_test_selected)\n",
    "test_rmse = np.sqrt(mean_squared_error(y_test, y_test_pred))\n",
    "\n",
    "print(f'In-sample RMSE (Training Set): {train_rmse}')\n",
    "print(f'Out-of-sample RMSE (Test Set): {test_rmse}')\n"
   ]
  },
  {
   "cell_type": "code",
   "execution_count": null,
   "metadata": {},
   "outputs": [],
   "source": []
  }
 ],
 "metadata": {
  "kernelspec": {
   "display_name": "Python 3 (ipykernel)",
   "language": "python",
   "name": "python3"
  },
  "language_info": {
   "codemirror_mode": {
    "name": "ipython",
    "version": 3
   },
   "file_extension": ".py",
   "mimetype": "text/x-python",
   "name": "python",
   "nbconvert_exporter": "python",
   "pygments_lexer": "ipython3",
   "version": "3.11.7"
  },
  "toc": {
   "base_numbering": 1,
   "nav_menu": {},
   "number_sections": true,
   "sideBar": true,
   "skip_h1_title": false,
   "title_cell": "Table of Contents",
   "title_sidebar": "Contents",
   "toc_cell": false,
   "toc_position": {
    "height": "calc(100% - 180px)",
    "left": "10px",
    "top": "150px",
    "width": "370.594px"
   },
   "toc_section_display": true,
   "toc_window_display": true
  }
 },
 "nbformat": 4,
 "nbformat_minor": 4
}
